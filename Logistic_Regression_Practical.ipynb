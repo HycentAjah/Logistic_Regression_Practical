{
 "cells": [
  {
   "cell_type": "markdown",
   "id": "7090bd98",
   "metadata": {},
   "source": [
    "## Logistic Regression Practical\n",
    "\n",
    "In this pratical, we will explore classification using the logistic regression approach. \n",
    "\n",
    "We will to build and train a logistic model using human cell records, and classify cells to whether the samples are benign (0) or malignant (1) based on certain characteristics.\n",
    "\n",
    "Before we dive into the practical, here is an overview of key steps in the practical:\n",
    "* Loading the required libraries\n",
    "* Data processing and exploration\n",
    "* Data modelling\n",
    "* Insight and model evaluation\n",
    "\n",
    "**The data for this practical was obtained from the IBM cloud storage**.\n"
   ]
  },
  {
   "cell_type": "markdown",
   "id": "30a615ac",
   "metadata": {},
   "source": [
    "### Loading the required libraries"
   ]
  },
  {
   "cell_type": "code",
   "execution_count": 2,
   "id": "43c97156",
   "metadata": {},
   "outputs": [],
   "source": [
    "\n",
    "def warn(*args, **kwargs):\n",
    "    pass\n",
    "import warnings\n",
    "warnings.warn = warn\n",
    "\n",
    "\n",
    "import pandas as pd\n",
    "import numpy as np\n",
    "from sklearn.preprocessing import OneHotEncoder, LabelEncoder, StandardScaler\n",
    "from sklearn.model_selection import train_test_split, learning_curve\n",
    "from sklearn.linear_model import LogisticRegression\n",
    "from sklearn import metrics\n",
    "from sklearn.metrics import classification_report, accuracy_score, confusion_matrix, precision_recall_fscore_support, precision_score, recall_score\n",
    "import matplotlib.pyplot as plt\n",
    "import seaborn as sns\n",
    "from sklearn.metrics import jaccard_score, log_loss\n",
    "%matplotlib inline"
   ]
  },
  {
   "cell_type": "markdown",
   "id": "b5b0a654",
   "metadata": {},
   "source": [
    "### Reading and exploring the dataset"
   ]
  },
  {
   "cell_type": "code",
   "execution_count": 3,
   "id": "ad215d07",
   "metadata": {},
   "outputs": [
    {
     "data": {
      "text/html": [
       "<div>\n",
       "<style scoped>\n",
       "    .dataframe tbody tr th:only-of-type {\n",
       "        vertical-align: middle;\n",
       "    }\n",
       "\n",
       "    .dataframe tbody tr th {\n",
       "        vertical-align: top;\n",
       "    }\n",
       "\n",
       "    .dataframe thead th {\n",
       "        text-align: right;\n",
       "    }\n",
       "</style>\n",
       "<table border=\"1\" class=\"dataframe\">\n",
       "  <thead>\n",
       "    <tr style=\"text-align: right;\">\n",
       "      <th></th>\n",
       "      <th>Clump</th>\n",
       "      <th>UnifSize</th>\n",
       "      <th>UnifShape</th>\n",
       "      <th>MargAdh</th>\n",
       "      <th>SingEpiSize</th>\n",
       "      <th>BareNuc</th>\n",
       "      <th>BlandChrom</th>\n",
       "      <th>NormNucl</th>\n",
       "      <th>Mit</th>\n",
       "      <th>Class</th>\n",
       "    </tr>\n",
       "  </thead>\n",
       "  <tbody>\n",
       "    <tr>\n",
       "      <th>0</th>\n",
       "      <td>5</td>\n",
       "      <td>1</td>\n",
       "      <td>1</td>\n",
       "      <td>1</td>\n",
       "      <td>2</td>\n",
       "      <td>1</td>\n",
       "      <td>3</td>\n",
       "      <td>1</td>\n",
       "      <td>1</td>\n",
       "      <td>0</td>\n",
       "    </tr>\n",
       "    <tr>\n",
       "      <th>1</th>\n",
       "      <td>5</td>\n",
       "      <td>4</td>\n",
       "      <td>4</td>\n",
       "      <td>5</td>\n",
       "      <td>7</td>\n",
       "      <td>10</td>\n",
       "      <td>3</td>\n",
       "      <td>2</td>\n",
       "      <td>1</td>\n",
       "      <td>0</td>\n",
       "    </tr>\n",
       "    <tr>\n",
       "      <th>2</th>\n",
       "      <td>3</td>\n",
       "      <td>1</td>\n",
       "      <td>1</td>\n",
       "      <td>1</td>\n",
       "      <td>2</td>\n",
       "      <td>2</td>\n",
       "      <td>3</td>\n",
       "      <td>1</td>\n",
       "      <td>1</td>\n",
       "      <td>0</td>\n",
       "    </tr>\n",
       "    <tr>\n",
       "      <th>3</th>\n",
       "      <td>6</td>\n",
       "      <td>8</td>\n",
       "      <td>8</td>\n",
       "      <td>1</td>\n",
       "      <td>3</td>\n",
       "      <td>4</td>\n",
       "      <td>3</td>\n",
       "      <td>7</td>\n",
       "      <td>1</td>\n",
       "      <td>0</td>\n",
       "    </tr>\n",
       "    <tr>\n",
       "      <th>4</th>\n",
       "      <td>4</td>\n",
       "      <td>1</td>\n",
       "      <td>1</td>\n",
       "      <td>3</td>\n",
       "      <td>2</td>\n",
       "      <td>1</td>\n",
       "      <td>3</td>\n",
       "      <td>1</td>\n",
       "      <td>1</td>\n",
       "      <td>0</td>\n",
       "    </tr>\n",
       "  </tbody>\n",
       "</table>\n",
       "</div>"
      ],
      "text/plain": [
       "   Clump  UnifSize  UnifShape  MargAdh  SingEpiSize  BareNuc  BlandChrom  \\\n",
       "0      5         1          1        1            2        1           3   \n",
       "1      5         4          4        5            7       10           3   \n",
       "2      3         1          1        1            2        2           3   \n",
       "3      6         8          8        1            3        4           3   \n",
       "4      4         1          1        3            2        1           3   \n",
       "\n",
       "   NormNucl  Mit  Class  \n",
       "0         1    1      0  \n",
       "1         2    1      0  \n",
       "2         1    1      0  \n",
       "3         7    1      0  \n",
       "4         1    1      0  "
      ]
     },
     "execution_count": 3,
     "metadata": {},
     "output_type": "execute_result"
    }
   ],
   "source": [
    "### Reading the dataset\n",
    "\n",
    "df = pd.read_csv(\"https://cf-courses-data.s3.us.cloud-object-storage.appdomain.cloud/IBM-ML241EN-SkillsNetwork/labs/datasets/tumor.csv\")\n",
    "df.head(5)\n"
   ]
  },
  {
   "cell_type": "code",
   "execution_count": 4,
   "id": "8374fcca",
   "metadata": {},
   "outputs": [
    {
     "data": {
      "text/plain": [
       "array([0, 1], dtype=int64)"
      ]
     },
     "execution_count": 4,
     "metadata": {},
     "output_type": "execute_result"
    }
   ],
   "source": [
    "df.Class.unique()"
   ]
  },
  {
   "cell_type": "markdown",
   "id": "863fca4a",
   "metadata": {},
   "source": [
    "### Data processing and exploration"
   ]
  },
  {
   "cell_type": "markdown",
   "id": "d8990c6d",
   "metadata": {},
   "source": [
    "First, lets extract ony those features we need for the model to another dataframe"
   ]
  },
  {
   "cell_type": "code",
   "execution_count": 5,
   "id": "514f196a",
   "metadata": {},
   "outputs": [
    {
     "name": "stdout",
     "output_type": "stream",
     "text": [
      "<class 'pandas.core.frame.DataFrame'>\n",
      "RangeIndex: 683 entries, 0 to 682\n",
      "Data columns (total 10 columns):\n",
      " #   Column       Non-Null Count  Dtype\n",
      "---  ------       --------------  -----\n",
      " 0   Clump        683 non-null    int64\n",
      " 1   UnifSize     683 non-null    int64\n",
      " 2   UnifShape    683 non-null    int64\n",
      " 3   MargAdh      683 non-null    int64\n",
      " 4   SingEpiSize  683 non-null    int64\n",
      " 5   BareNuc      683 non-null    int64\n",
      " 6   BlandChrom   683 non-null    int64\n",
      " 7   NormNucl     683 non-null    int64\n",
      " 8   Mit          683 non-null    int64\n",
      " 9   Class        683 non-null    int64\n",
      "dtypes: int64(10)\n",
      "memory usage: 53.5 KB\n"
     ]
    }
   ],
   "source": [
    "# Exploring the details of the dataset\n",
    "df.info()"
   ]
  },
  {
   "cell_type": "markdown",
   "id": "7659170b",
   "metadata": {},
   "source": [
    "Notice from above the range of the dataset is 0 to 682, thus each feature should have 683 observation. Notice that all the features contain 683 non-null observations. And the data type in show to be int(64) for all the features."
   ]
  },
  {
   "cell_type": "code",
   "execution_count": 6,
   "id": "0f4d052e",
   "metadata": {},
   "outputs": [
    {
     "data": {
      "text/plain": [
       "Clump          0\n",
       "UnifSize       0\n",
       "UnifShape      0\n",
       "MargAdh        0\n",
       "SingEpiSize    0\n",
       "BareNuc        0\n",
       "BlandChrom     0\n",
       "NormNucl       0\n",
       "Mit            0\n",
       "Class          0\n",
       "dtype: int64"
      ]
     },
     "execution_count": 6,
     "metadata": {},
     "output_type": "execute_result"
    }
   ],
   "source": [
    "# Checking for missing values.\n",
    "df.isnull().sum()"
   ]
  },
  {
   "cell_type": "code",
   "execution_count": 7,
   "id": "3ed724fb",
   "metadata": {},
   "outputs": [
    {
     "data": {
      "text/plain": [
       "(683, 10)"
      ]
     },
     "execution_count": 7,
     "metadata": {},
     "output_type": "execute_result"
    }
   ],
   "source": [
    "df.shape"
   ]
  },
  {
   "cell_type": "code",
   "execution_count": 8,
   "id": "389dd8f7",
   "metadata": {},
   "outputs": [
    {
     "data": {
      "text/html": [
       "<div>\n",
       "<style scoped>\n",
       "    .dataframe tbody tr th:only-of-type {\n",
       "        vertical-align: middle;\n",
       "    }\n",
       "\n",
       "    .dataframe tbody tr th {\n",
       "        vertical-align: top;\n",
       "    }\n",
       "\n",
       "    .dataframe thead th {\n",
       "        text-align: right;\n",
       "    }\n",
       "</style>\n",
       "<table border=\"1\" class=\"dataframe\">\n",
       "  <thead>\n",
       "    <tr style=\"text-align: right;\">\n",
       "      <th></th>\n",
       "      <th>Clump</th>\n",
       "      <th>UnifSize</th>\n",
       "      <th>UnifShape</th>\n",
       "      <th>MargAdh</th>\n",
       "      <th>SingEpiSize</th>\n",
       "      <th>BareNuc</th>\n",
       "      <th>BlandChrom</th>\n",
       "      <th>NormNucl</th>\n",
       "      <th>Mit</th>\n",
       "      <th>Class</th>\n",
       "    </tr>\n",
       "  </thead>\n",
       "  <tbody>\n",
       "    <tr>\n",
       "      <th>count</th>\n",
       "      <td>683.000000</td>\n",
       "      <td>683.000000</td>\n",
       "      <td>683.000000</td>\n",
       "      <td>683.000000</td>\n",
       "      <td>683.000000</td>\n",
       "      <td>683.000000</td>\n",
       "      <td>683.000000</td>\n",
       "      <td>683.000000</td>\n",
       "      <td>683.000000</td>\n",
       "      <td>683.000000</td>\n",
       "    </tr>\n",
       "    <tr>\n",
       "      <th>mean</th>\n",
       "      <td>4.442167</td>\n",
       "      <td>3.150805</td>\n",
       "      <td>3.215227</td>\n",
       "      <td>2.830161</td>\n",
       "      <td>3.234261</td>\n",
       "      <td>3.544656</td>\n",
       "      <td>3.445095</td>\n",
       "      <td>2.869693</td>\n",
       "      <td>1.603221</td>\n",
       "      <td>0.349927</td>\n",
       "    </tr>\n",
       "    <tr>\n",
       "      <th>std</th>\n",
       "      <td>2.820761</td>\n",
       "      <td>3.065145</td>\n",
       "      <td>2.988581</td>\n",
       "      <td>2.864562</td>\n",
       "      <td>2.223085</td>\n",
       "      <td>3.643857</td>\n",
       "      <td>2.449697</td>\n",
       "      <td>3.052666</td>\n",
       "      <td>1.732674</td>\n",
       "      <td>0.477296</td>\n",
       "    </tr>\n",
       "    <tr>\n",
       "      <th>min</th>\n",
       "      <td>1.000000</td>\n",
       "      <td>1.000000</td>\n",
       "      <td>1.000000</td>\n",
       "      <td>1.000000</td>\n",
       "      <td>1.000000</td>\n",
       "      <td>1.000000</td>\n",
       "      <td>1.000000</td>\n",
       "      <td>1.000000</td>\n",
       "      <td>1.000000</td>\n",
       "      <td>0.000000</td>\n",
       "    </tr>\n",
       "    <tr>\n",
       "      <th>25%</th>\n",
       "      <td>2.000000</td>\n",
       "      <td>1.000000</td>\n",
       "      <td>1.000000</td>\n",
       "      <td>1.000000</td>\n",
       "      <td>2.000000</td>\n",
       "      <td>1.000000</td>\n",
       "      <td>2.000000</td>\n",
       "      <td>1.000000</td>\n",
       "      <td>1.000000</td>\n",
       "      <td>0.000000</td>\n",
       "    </tr>\n",
       "    <tr>\n",
       "      <th>50%</th>\n",
       "      <td>4.000000</td>\n",
       "      <td>1.000000</td>\n",
       "      <td>1.000000</td>\n",
       "      <td>1.000000</td>\n",
       "      <td>2.000000</td>\n",
       "      <td>1.000000</td>\n",
       "      <td>3.000000</td>\n",
       "      <td>1.000000</td>\n",
       "      <td>1.000000</td>\n",
       "      <td>0.000000</td>\n",
       "    </tr>\n",
       "    <tr>\n",
       "      <th>75%</th>\n",
       "      <td>6.000000</td>\n",
       "      <td>5.000000</td>\n",
       "      <td>5.000000</td>\n",
       "      <td>4.000000</td>\n",
       "      <td>4.000000</td>\n",
       "      <td>6.000000</td>\n",
       "      <td>5.000000</td>\n",
       "      <td>4.000000</td>\n",
       "      <td>1.000000</td>\n",
       "      <td>1.000000</td>\n",
       "    </tr>\n",
       "    <tr>\n",
       "      <th>max</th>\n",
       "      <td>10.000000</td>\n",
       "      <td>10.000000</td>\n",
       "      <td>10.000000</td>\n",
       "      <td>10.000000</td>\n",
       "      <td>10.000000</td>\n",
       "      <td>10.000000</td>\n",
       "      <td>10.000000</td>\n",
       "      <td>10.000000</td>\n",
       "      <td>10.000000</td>\n",
       "      <td>1.000000</td>\n",
       "    </tr>\n",
       "  </tbody>\n",
       "</table>\n",
       "</div>"
      ],
      "text/plain": [
       "            Clump    UnifSize   UnifShape     MargAdh  SingEpiSize  \\\n",
       "count  683.000000  683.000000  683.000000  683.000000   683.000000   \n",
       "mean     4.442167    3.150805    3.215227    2.830161     3.234261   \n",
       "std      2.820761    3.065145    2.988581    2.864562     2.223085   \n",
       "min      1.000000    1.000000    1.000000    1.000000     1.000000   \n",
       "25%      2.000000    1.000000    1.000000    1.000000     2.000000   \n",
       "50%      4.000000    1.000000    1.000000    1.000000     2.000000   \n",
       "75%      6.000000    5.000000    5.000000    4.000000     4.000000   \n",
       "max     10.000000   10.000000   10.000000   10.000000    10.000000   \n",
       "\n",
       "          BareNuc  BlandChrom    NormNucl         Mit       Class  \n",
       "count  683.000000  683.000000  683.000000  683.000000  683.000000  \n",
       "mean     3.544656    3.445095    2.869693    1.603221    0.349927  \n",
       "std      3.643857    2.449697    3.052666    1.732674    0.477296  \n",
       "min      1.000000    1.000000    1.000000    1.000000    0.000000  \n",
       "25%      1.000000    2.000000    1.000000    1.000000    0.000000  \n",
       "50%      1.000000    3.000000    1.000000    1.000000    0.000000  \n",
       "75%      6.000000    5.000000    4.000000    1.000000    1.000000  \n",
       "max     10.000000   10.000000   10.000000   10.000000    1.000000  "
      ]
     },
     "execution_count": 8,
     "metadata": {},
     "output_type": "execute_result"
    }
   ],
   "source": [
    "df.describe()"
   ]
  },
  {
   "cell_type": "code",
   "execution_count": 9,
   "id": "567a97db",
   "metadata": {},
   "outputs": [
    {
     "data": {
      "text/plain": [
       "0    444\n",
       "1    239\n",
       "Name: Class, dtype: int64"
      ]
     },
     "execution_count": 9,
     "metadata": {},
     "output_type": "execute_result"
    }
   ],
   "source": [
    "# lets see the count for each customer category\n",
    "df['Class'].value_counts()"
   ]
  },
  {
   "cell_type": "code",
   "execution_count": 10,
   "id": "2868bf29",
   "metadata": {},
   "outputs": [
    {
     "data": {
      "text/plain": [
       "<Axes: >"
      ]
     },
     "execution_count": 10,
     "metadata": {},
     "output_type": "execute_result"
    },
    {
     "data": {
      "image/png": "[encoded data removed]",
      "text/plain": [
       "<Figure size 640x480 with 1 Axes>"
      ]
     },
     "metadata": {},
     "output_type": "display_data"
    }
   ],
   "source": [
    "# We can also see the count for each customer category with a graph thus \n",
    "df.Class.value_counts().plot.bar(color=['red','purple'])"
   ]
  },
  {
   "cell_type": "markdown",
   "id": "008c6159",
   "metadata": {},
   "source": [
    "Now lets split the dataset into two, y for the target variable `Class` and X containing all other features."
   ]
  },
  {
   "cell_type": "code",
   "execution_count": 11,
   "id": "69f3dd5e",
   "metadata": {},
   "outputs": [
    {
     "data": {
      "text/plain": [
       "array([[ 5,  1,  1,  1,  2,  1,  3,  1,  1],\n",
       "       [ 5,  4,  4,  5,  7, 10,  3,  2,  1],\n",
       "       [ 3,  1,  1,  1,  2,  2,  3,  1,  1],\n",
       "       [ 6,  8,  8,  1,  3,  4,  3,  7,  1],\n",
       "       [ 4,  1,  1,  3,  2,  1,  3,  1,  1]], dtype=int64)"
      ]
     },
     "execution_count": 11,
     "metadata": {},
     "output_type": "execute_result"
    }
   ],
   "source": [
    "# let X contain all the features except custcat\n",
    "X = df.iloc[:, :-1].values\n",
    "X[0:5]"
   ]
  },
  {
   "cell_type": "code",
   "execution_count": 12,
   "id": "0f4579f1",
   "metadata": {},
   "outputs": [
    {
     "data": {
      "text/plain": [
       "array([0, 0, 0, 0, 0], dtype=int64)"
      ]
     },
     "execution_count": 12,
     "metadata": {},
     "output_type": "execute_result"
    }
   ],
   "source": [
    "# let y equals to the target custcat\n",
    "y = df['Class'].values\n",
    "y[0:5]"
   ]
  },
  {
   "cell_type": "markdown",
   "id": "4e878baa",
   "metadata": {},
   "source": [
    "#### On variable transformation/standardization\n",
    "\n",
    "Unlike previous practicals, here there will be no need to standardize or normalize the dataset since the dataset are all of the same scale. We will proceed directly to split the dataset into traning and testing set."
   ]
  },
  {
   "cell_type": "markdown",
   "id": "7360a0ed",
   "metadata": {},
   "source": [
    "Now lets split the datasets into training set and testing set as shown below"
   ]
  },
  {
   "cell_type": "code",
   "execution_count": 13,
   "id": "04c64985",
   "metadata": {},
   "outputs": [
    {
     "name": "stdout",
     "output_type": "stream",
     "text": [
      "Train set: (546, 9) (546,)\n",
      "Test set: (137, 9) (137,)\n"
     ]
    }
   ],
   "source": [
    "# spliting the dataset to training and test set\n",
    "\n",
    "X_train, X_test, y_train, y_test = train_test_split( X, y, test_size=0.2, stratify=y, random_state=10)\n",
    "\n",
    "print ('Train set:', X_train.shape,  y_train.shape)\n",
    "print ('Test set:', X_test.shape,  y_test.shape)\n"
   ]
  },
  {
   "cell_type": "markdown",
   "id": "db93e062",
   "metadata": {},
   "source": [
    "### Data modelling\n",
    "\n",
    "Now lets build and fit our logistic regression model"
   ]
  },
  {
   "cell_type": "code",
   "execution_count": 14,
   "id": "6777c169",
   "metadata": {},
   "outputs": [
    {
     "data": {
      "text/html": [
       "<style>#sk-container-id-1 {color: black;background-color: white;}#sk-container-id-1 pre{padding: 0;}#sk-container-id-1 div.sk-toggleable {background-color: white;}#sk-container-id-1 label.sk-toggleable__label {cursor: pointer;display: block;width: 100%;margin-bottom: 0;padding: 0.3em;box-sizing: border-box;text-align: center;}#sk-container-id-1 label.sk-toggleable__label-arrow:before {content: \"▸\";float: left;margin-right: 0.25em;color: #696969;}#sk-container-id-1 label.sk-toggleable__label-arrow:hover:before {color: black;}#sk-container-id-1 div.sk-estimator:hover label.sk-toggleable__label-arrow:before {color: black;}#sk-container-id-1 div.sk-toggleable__content {max-height: 0;max-width: 0;overflow: hidden;text-align: left;background-color: #f0f8ff;}#sk-container-id-1 div.sk-toggleable__content pre {margin: 0.2em;color: black;border-radius: 0.25em;background-color: #f0f8ff;}#sk-container-id-1 input.sk-toggleable__control:checked~div.sk-toggleable__content {max-height: 200px;max-width: 100%;overflow: auto;}#sk-container-id-1 input.sk-toggleable__control:checked~label.sk-toggleable__label-arrow:before {content: \"▾\";}#sk-container-id-1 div.sk-estimator input.sk-toggleable__control:checked~label.sk-toggleable__label {background-color: #d4ebff;}#sk-container-id-1 div.sk-label input.sk-toggleable__control:checked~label.sk-toggleable__label {background-color: #d4ebff;}#sk-container-id-1 input.sk-hidden--visually {border: 0;clip: rect(1px 1px 1px 1px);clip: rect(1px, 1px, 1px, 1px);height: 1px;margin: -1px;overflow: hidden;padding: 0;position: absolute;width: 1px;}#sk-container-id-1 div.sk-estimator {font-family: monospace;background-color: #f0f8ff;border: 1px dotted black;border-radius: 0.25em;box-sizing: border-box;margin-bottom: 0.5em;}#sk-container-id-1 div.sk-estimator:hover {background-color: #d4ebff;}#sk-container-id-1 div.sk-parallel-item::after {content: \"\";width: 100%;border-bottom: 1px solid gray;flex-grow: 1;}#sk-container-id-1 div.sk-label:hover label.sk-toggleable__label {background-color: #d4ebff;}#sk-container-id-1 div.sk-serial::before {content: \"\";position: absolute;border-left: 1px solid gray;box-sizing: border-box;top: 0;bottom: 0;left: 50%;z-index: 0;}#sk-container-id-1 div.sk-serial {display: flex;flex-direction: column;align-items: center;background-color: white;padding-right: 0.2em;padding-left: 0.2em;position: relative;}#sk-container-id-1 div.sk-item {position: relative;z-index: 1;}#sk-container-id-1 div.sk-parallel {display: flex;align-items: stretch;justify-content: center;background-color: white;position: relative;}#sk-container-id-1 div.sk-item::before, #sk-container-id-1 div.sk-parallel-item::before {content: \"\";position: absolute;border-left: 1px solid gray;box-sizing: border-box;top: 0;bottom: 0;left: 50%;z-index: -1;}#sk-container-id-1 div.sk-parallel-item {display: flex;flex-direction: column;z-index: 1;position: relative;background-color: white;}#sk-container-id-1 div.sk-parallel-item:first-child::after {align-self: flex-end;width: 50%;}#sk-container-id-1 div.sk-parallel-item:last-child::after {align-self: flex-start;width: 50%;}#sk-container-id-1 div.sk-parallel-item:only-child::after {width: 0;}#sk-container-id-1 div.sk-dashed-wrapped {border: 1px dashed gray;margin: 0 0.4em 0.5em 0.4em;box-sizing: border-box;padding-bottom: 0.4em;background-color: white;}#sk-container-id-1 div.sk-label label {font-family: monospace;font-weight: bold;display: inline-block;line-height: 1.2em;}#sk-container-id-1 div.sk-label-container {text-align: center;}#sk-container-id-1 div.sk-container {/* jupyter's `normalize.less` sets `[hidden] { display: none; }` but bootstrap.min.css set `[hidden] { display: none !important; }` so we also need the `!important` here to be able to override the default hidden behavior on the sphinx rendered scikit-learn.org. See: https://github.com/scikit-learn/scikit-learn/issues/21755 */display: inline-block !important;position: relative;}#sk-container-id-1 div.sk-text-repr-fallback {display: none;}</style><div id=\"sk-container-id-1\" class=\"sk-top-container\"><div class=\"sk-text-repr-fallback\"><pre>LogisticRegression(C=0.01, solver=&#x27;liblinear&#x27;)</pre><b>In a Jupyter environment, please rerun this cell to show the HTML representation or trust the notebook. <br />On GitHub, the HTML representation is unable to render, please try loading this page with nbviewer.org.</b></div><div class=\"sk-container\" hidden><div class=\"sk-item\"><div class=\"sk-estimator sk-toggleable\"><input class=\"sk-toggleable__control sk-hidden--visually\" id=\"sk-estimator-id-1\" type=\"checkbox\" checked><label for=\"sk-estimator-id-1\" class=\"sk-toggleable__label sk-toggleable__label-arrow\">LogisticRegression</label><div class=\"sk-toggleable__content\"><pre>LogisticRegression(C=0.01, solver=&#x27;liblinear&#x27;)</pre></div></div></div></div></div>"
      ],
      "text/plain": [
       "LogisticRegression(C=0.01, solver='liblinear')"
      ]
     },
     "execution_count": 14,
     "metadata": {},
     "output_type": "execute_result"
    }
   ],
   "source": [
    "# Building and fitting the logistic regression model\n",
    "Logr = LogisticRegression(C=0.01, solver='liblinear').fit(X_train,y_train)\n",
    "Logr"
   ]
  },
  {
   "cell_type": "markdown",
   "id": "131fc355",
   "metadata": {},
   "source": [
    "Now lets make prediction using test set"
   ]
  },
  {
   "cell_type": "code",
   "execution_count": 15,
   "id": "b337efcc",
   "metadata": {},
   "outputs": [
    {
     "data": {
      "text/plain": [
       "array([1, 0, 0, 0, 0, 1, 1, 0, 0, 1, 0, 0, 0, 1, 0, 0, 1, 1, 0, 0, 1, 1,\n",
       "       0, 0, 0, 0, 0, 1, 1, 0, 0, 1, 0, 1, 1, 1, 0, 1, 0, 0, 0, 1, 1, 0,\n",
       "       0, 0, 0, 0, 0, 0, 1, 0, 1, 0, 1, 0, 0, 1, 1, 0, 0, 1, 0, 0, 1, 0,\n",
       "       0, 1, 0, 0, 0, 0, 1, 1, 0, 1, 0, 1, 0, 0, 1, 0, 1, 0, 1, 1, 0, 0,\n",
       "       0, 0, 1, 0, 1, 0, 0, 1, 0, 0, 0, 1, 0, 1, 1, 0, 0, 1, 0, 0, 0, 1,\n",
       "       0, 1, 1, 1, 1, 0, 0, 0, 0, 1, 0, 0, 0, 0, 1, 1, 0, 0, 0, 1, 0, 0,\n",
       "       0, 0, 1, 0, 0], dtype=int64)"
      ]
     },
     "execution_count": 15,
     "metadata": {},
     "output_type": "execute_result"
    }
   ],
   "source": [
    "# predicting the class using the test set\n",
    "predicted_y = Logr.predict(X_test)\n",
    "predicted_y"
   ]
  },
  {
   "cell_type": "markdown",
   "id": "9567b11d",
   "metadata": {},
   "source": [
    "We can also get the probability estimate for each of the predicted class as follows"
   ]
  },
  {
   "cell_type": "code",
   "execution_count": 16,
   "id": "c716b8d3",
   "metadata": {},
   "outputs": [
    {
     "data": {
      "text/plain": [
       "array([[0.20535529, 0.79464471],\n",
       "       [0.70960922, 0.29039078],\n",
       "       [0.74458625, 0.25541375],\n",
       "       [0.70240085, 0.29759915],\n",
       "       [0.5008877 , 0.4991123 ],\n",
       "       [0.02603871, 0.97396129],\n",
       "       [0.05805824, 0.94194176],\n",
       "       [0.78852584, 0.21147416],\n",
       "       [0.70240085, 0.29759915],\n",
       "       [0.40327872, 0.59672128],\n",
       "       [0.74279373, 0.25720627],\n",
       "       [0.51274837, 0.48725163],\n",
       "       [0.73758415, 0.26241585],\n",
       "       [0.02452433, 0.97547567],\n",
       "       [0.84808102, 0.15191898],\n",
       "       [0.74941587, 0.25058413],\n",
       "       [0.02212021, 0.97787979],\n",
       "       [0.04324603, 0.95675397],\n",
       "       [0.72839961, 0.27160039],\n",
       "       [0.6989853 , 0.3010147 ],\n",
       "       [0.03536367, 0.96463633],\n",
       "       [0.2626455 , 0.7373545 ],\n",
       "       [0.72839961, 0.27160039],\n",
       "       [0.74279373, 0.25720627],\n",
       "       [0.78852584, 0.21147416],\n",
       "       [0.65858022, 0.34141978],\n",
       "       [0.77299705, 0.22700295],\n",
       "       [0.17131688, 0.82868312],\n",
       "       [0.03657526, 0.96342474],\n",
       "       [0.91306015, 0.08693985],\n",
       "       [0.75974649, 0.24025351],\n",
       "       [0.09916381, 0.90083619],\n",
       "       [0.76475451, 0.23524549],\n",
       "       [0.12964424, 0.87035576],\n",
       "       [0.4876794 , 0.5123206 ],\n",
       "       [0.45559655, 0.54440345],\n",
       "       [0.79716818, 0.20283182],\n",
       "       [0.08026231, 0.91973769],\n",
       "       [0.78852584, 0.21147416],\n",
       "       [0.7664371 , 0.2335629 ],\n",
       "       [0.69460679, 0.30539321],\n",
       "       [0.01650618, 0.98349382],\n",
       "       [0.38007438, 0.61992562],\n",
       "       [0.87130923, 0.12869077],\n",
       "       [0.84808102, 0.15191898],\n",
       "       [0.82491866, 0.17508134],\n",
       "       [0.75974649, 0.24025351],\n",
       "       [0.79463163, 0.20536837],\n",
       "       [0.62111444, 0.37888556],\n",
       "       [0.79463163, 0.20536837],\n",
       "       [0.01821274, 0.98178726],\n",
       "       [0.82561407, 0.17438593],\n",
       "       [0.11170243, 0.88829757],\n",
       "       [0.65858022, 0.34141978],\n",
       "       [0.09193869, 0.90806131],\n",
       "       [0.80060572, 0.19939428],\n",
       "       [0.70240085, 0.29759915],\n",
       "       [0.03995437, 0.96004563],\n",
       "       [0.03914624, 0.96085376],\n",
       "       [0.65858022, 0.34141978],\n",
       "       [0.7664371 , 0.2335629 ],\n",
       "       [0.48126271, 0.51873729],\n",
       "       [0.6612715 , 0.3387285 ],\n",
       "       [0.70240085, 0.29759915],\n",
       "       [0.01235285, 0.98764715],\n",
       "       [0.7601259 , 0.2398741 ],\n",
       "       [0.5131111 , 0.4868889 ],\n",
       "       [0.00732104, 0.99267896],\n",
       "       [0.7601259 , 0.2398741 ],\n",
       "       [0.79906157, 0.20093843],\n",
       "       [0.7664371 , 0.2335629 ],\n",
       "       [0.78263748, 0.21736252],\n",
       "       [0.02870294, 0.97129706],\n",
       "       [0.28768113, 0.71231887],\n",
       "       [0.78103827, 0.21896173],\n",
       "       [0.06747989, 0.93252011],\n",
       "       [0.59134746, 0.40865254],\n",
       "       [0.00871607, 0.99128393],\n",
       "       [0.71392985, 0.28607015],\n",
       "       [0.74941587, 0.25058413],\n",
       "       [0.01551587, 0.98448413],\n",
       "       [0.68838028, 0.31161972],\n",
       "       [0.06021191, 0.93978809],\n",
       "       [0.58191135, 0.41808865],\n",
       "       [0.09994752, 0.90005248],\n",
       "       [0.01643581, 0.98356419],\n",
       "       [0.76557271, 0.23442729],\n",
       "       [0.84808102, 0.15191898],\n",
       "       [0.74279373, 0.25720627],\n",
       "       [0.68693483, 0.31306517],\n",
       "       [0.12803831, 0.87196169],\n",
       "       [0.54184075, 0.45815925],\n",
       "       [0.49818804, 0.50181196],\n",
       "       [0.7647061 , 0.2352939 ],\n",
       "       [0.80936282, 0.19063718],\n",
       "       [0.08828981, 0.91171019],\n",
       "       [0.86811581, 0.13188419],\n",
       "       [0.75974649, 0.24025351],\n",
       "       [0.69060858, 0.30939142],\n",
       "       [0.09622546, 0.90377454],\n",
       "       [0.65858022, 0.34141978],\n",
       "       [0.41523444, 0.58476556],\n",
       "       [0.03563659, 0.96436341],\n",
       "       [0.78852584, 0.21147416],\n",
       "       [0.84808102, 0.15191898],\n",
       "       [0.36707469, 0.63292531],\n",
       "       [0.82022101, 0.17977899],\n",
       "       [0.62040665, 0.37959335],\n",
       "       [0.78263748, 0.21736252],\n",
       "       [0.23284265, 0.76715735],\n",
       "       [0.80093751, 0.19906249],\n",
       "       [0.2640985 , 0.7359015 ],\n",
       "       [0.11133167, 0.88866833],\n",
       "       [0.07198739, 0.92801261],\n",
       "       [0.05069905, 0.94930095],\n",
       "       [0.72839961, 0.27160039],\n",
       "       [0.74279373, 0.25720627],\n",
       "       [0.70240085, 0.29759915],\n",
       "       [0.728913  , 0.271087  ],\n",
       "       [0.01070158, 0.98929842],\n",
       "       [0.70240085, 0.29759915],\n",
       "       [0.74279373, 0.25720627],\n",
       "       [0.7664371 , 0.2335629 ],\n",
       "       [0.74279373, 0.25720627],\n",
       "       [0.1293052 , 0.8706948 ],\n",
       "       [0.14734368, 0.85265632],\n",
       "       [0.72839961, 0.27160039],\n",
       "       [0.68239376, 0.31760624],\n",
       "       [0.78334619, 0.21665381],\n",
       "       [0.49954016, 0.50045984],\n",
       "       [0.69460679, 0.30539321],\n",
       "       [0.50150421, 0.49849579],\n",
       "       [0.59854338, 0.40145662],\n",
       "       [0.79463163, 0.20536837],\n",
       "       [0.44874963, 0.55125037],\n",
       "       [0.65531976, 0.34468024],\n",
       "       [0.79463163, 0.20536837]])"
      ]
     },
     "execution_count": 16,
     "metadata": {},
     "output_type": "execute_result"
    }
   ],
   "source": [
    "# probability estimates for the predicted class\n",
    "predicted_y_prob = Logr.predict_proba(X_test)\n",
    "predicted_y_prob"
   ]
  },
  {
   "cell_type": "markdown",
   "id": "9b68a1d5",
   "metadata": {},
   "source": [
    "### Insight and model evaluation\n",
    "\n",
    "We can evaluate the performance of the model using the Jaccard index and other evaluation metrics."
   ]
  },
  {
   "cell_type": "code",
   "execution_count": 17,
   "id": "5faac811",
   "metadata": {},
   "outputs": [
    {
     "data": {
      "text/plain": [
       "0.9230769230769231"
      ]
     },
     "execution_count": 17,
     "metadata": {},
     "output_type": "execute_result"
    }
   ],
   "source": [
    "# Calculating the jaccard score\n",
    "jaccard_score(y_test, predicted_y,pos_label=0)"
   ]
  },
  {
   "cell_type": "markdown",
   "id": "857459e9",
   "metadata": {},
   "source": [
    "The jaccard score ranges from 0 to 1, where a model that accurately predicts the true label is 1. In this case, the Jaccard score of 0.92 shows high accuracy. We can interprete this to mean the model would be accurate 92% of the time."
   ]
  },
  {
   "cell_type": "markdown",
   "id": "b14de1d9",
   "metadata": {},
   "source": [
    "Let check other basic classification evaluation metrics"
   ]
  },
  {
   "cell_type": "code",
   "execution_count": null,
   "id": "d79bb275",
   "metadata": {},
   "outputs": [],
   "source": [
    "def evaluate_metrics(yt, yp):\n",
    "    results_pos = {}\n",
    "    results_pos['accuracy'] = accuracy_score(yt, yp)\n",
    "    precision, recall, f_beta, _ = precision_recall_fscore_support(yt, yp)\n",
    "    results_pos['recall'] = recall\n",
    "    results_pos['precision'] = precision\n",
    "    results_pos['f1score'] = f_beta\n",
    "    return results_pos"
   ]
  },
  {
   "cell_type": "code",
   "execution_count": 20,
   "id": "1dc1ddb4",
   "metadata": {},
   "outputs": [
    {
     "data": {
      "text/plain": [
       "{'accuracy': 0.948905109489051,\n",
       " 'recall': array([0.94382022, 0.95833333]),\n",
       " 'precision': array([0.97674419, 0.90196078]),\n",
       " 'f1score': array([0.96      , 0.92929293])}"
      ]
     },
     "execution_count": 20,
     "metadata": {},
     "output_type": "execute_result"
    }
   ],
   "source": [
    "evaluate_metrics(y_test, predicted_y)"
   ]
  },
  {
   "cell_type": "markdown",
   "id": "24f42fc7",
   "metadata": {},
   "source": [
    "Looking at the accuracy above obtained from the evaluation metric, the high accuracy of 0.94 means the model would be accurate 94% of the time in predicting the label."
   ]
  },
  {
   "cell_type": "markdown",
   "id": "3e1a80f1",
   "metadata": {},
   "source": [
    "#### Final Notes.\n",
    "\n",
    "* The above logistic model is a binary classification model with just two class. For **multiclass model**, we would have to specify it is a multiclass when training and fitting the model.\n",
    "* For very large dataset where we suspect overfitting, we can include a **regularization/penalty** akin to the linear regression model when training and fitting the logistic model to address any such overfitting. "
   ]
  },
  {
   "cell_type": "markdown",
   "id": "90f5ae4f",
   "metadata": {},
   "source": [
    "## Thank you for following through"
   ]
  },
  {
   "cell_type": "code",
   "execution_count": null,
   "id": "7439ba7a",
   "metadata": {},
   "outputs": [],
   "source": []
  },
  {
   "cell_type": "code",
   "execution_count": null,
   "id": "1ecbac7d",
   "metadata": {},
   "outputs": [],
   "source": []
  }
 ],
 "metadata": {
  "kernelspec": {
   "display_name": "Python 3 (ipykernel)",
   "language": "python",
   "name": "python3"
  },
  "language_info": {
   "codemirror_mode": {
    "name": "ipython",
    "version": 3
   },
   "file_extension": ".py",
   "mimetype": "text/x-python",
   "name": "python",
   "nbconvert_exporter": "python",
   "pygments_lexer": "ipython3",
   "version": "3.11.3"
  }
 },
 "nbformat": 4,
 "nbformat_minor": 5
}
